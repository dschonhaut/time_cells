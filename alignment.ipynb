{
 "cells": [
  {
   "cell_type": "code",
   "execution_count": 1,
   "metadata": {},
   "outputs": [],
   "source": [
    "# General\n",
    "import sys\n",
    "import os\n",
    "from time import time\n",
    "from collections import OrderedDict as od\n",
    "from importlib import reload\n",
    "from glob import glob\n",
    "import itertools\n",
    "\n",
    "# Scientific\n",
    "import numpy as np\n",
    "import pandas as pd\n",
    "pd.options.display.max_rows = 200\n",
    "pd.options.display.max_columns = 999\n",
    "import scipy.io as sio\n",
    "\n",
    "# Stats\n",
    "import scipy.stats as stats\n",
    "import statsmodels.api as sm\n",
    "import random\n",
    "from sklearn.decomposition import PCA\n",
    "\n",
    "# Plots\n",
    "import matplotlib.pyplot as plt\n",
    "%matplotlib inline\n",
    "import seaborn as sns\n",
    "import matplotlib as mpl\n",
    "from matplotlib.lines import Line2D\n",
    "import matplotlib.patches as patches\n",
    "mpl.rcParams['grid.linewidth'] = 0.1\n",
    "mpl.rcParams['grid.alpha'] = 0.75\n",
    "mpl.rcParams['lines.linewidth'] = 1\n",
    "mpl.rcParams['lines.markersize'] = 3\n",
    "mpl.rcParams['xtick.labelsize'] = 15\n",
    "mpl.rcParams['ytick.labelsize'] = 15 \n",
    "colors = ['1f77b4', 'd62728', '2ca02c', 'ff7f0e', '9467bd', \n",
    "          '8c564b', 'e377c2', '7f7f7f', 'bcbd22', '17becf']\n",
    "mpl.rcParams['axes.prop_cycle'] = mpl.cycler('color', colors)\n",
    "mpl.rcParams['axes.spines.right'] = False\n",
    "mpl.rcParams['axes.spines.top'] = False\n",
    "mpl.rcParams['axes.formatter.offset_threshold'] = 2\n",
    "mpl.rcParams['axes.labelsize'] = 17\n",
    "mpl.rcParams['axes.labelpad'] = 10\n",
    "mpl.rcParams['axes.titlesize'] = 19\n",
    "mpl.rcParams['axes.grid'] = True\n",
    "mpl.rcParams['axes.axisbelow'] = True\n",
    "mpl.rcParams['legend.loc'] = 'upper right'\n",
    "mpl.rcParams['legend.fontsize'] = 15\n",
    "mpl.rcParams['legend.frameon'] = False\n",
    "mpl.rcParams['figure.dpi'] = 300\n",
    "mpl.rcParams['figure.titlesize'] = 19\n",
    "mpl.rcParams['figure.figsize'] = (6.85039, 4.79527) \n",
    "mpl.rcParams['figure.subplot.wspace'] = 0.25 \n",
    "mpl.rcParams['figure.subplot.hspace'] = 0.25 \n",
    "#mpl.rcParams['font.sans-serif'] = ['Helvetica']\n",
    "mpl.rcParams['savefig.format'] = 'pdf'\n",
    "mpl.rcParams['pdf.fonttype'] = 42\n",
    "\n",
    "# Personal\n",
    "sys.path.append('/Volumes/rhino/home1/dscho/code/general')\n",
    "import data_io as dio\n",
    "import array_operations as aop\n",
    "\n",
    "# Colors\n",
    "n = 4\n",
    "c = 2\n",
    "colors = [sns.color_palette('Blues', n)[c], \n",
    "          sns.color_palette('Reds', n)[c], \n",
    "          sns.color_palette('Greens', n)[c],\n",
    "          sns.color_palette('Purples', n)[c],\n",
    "          sns.color_palette('Oranges', n)[c],\n",
    "          sns.color_palette('Greys', n)[c],\n",
    "          sns.color_palette('YlOrBr', n+3)[c],\n",
    "          'k']\n",
    "cmap = sns.palettes.blend_palette((colors[0], \n",
    "                                   sns.palettes.blend_palette((colors[0], 'w', colors[1]), 101)[45],\n",
    "                                   sns.palettes.blend_palette((colors[0], 'w', colors[1]), 101)[55],\n",
    "                                   colors[1]), 101)\n",
    "labelfontsize = 12\n",
    "tickfontsize = 12\n",
    "figfontsize = 14"
   ]
  },
  {
   "cell_type": "code",
   "execution_count": 171,
   "metadata": {},
   "outputs": [],
   "source": [
    "def rmse(v1, v2):\n",
    "    \"\"\"Return the root mean squared error\n",
    "    between equal-length vectors v1 and v2.\n",
    "    \"\"\"\n",
    "    err = v1 - v2\n",
    "    return np.sqrt(np.dot(err, err)/len(v1))"
   ]
  },
  {
   "cell_type": "code",
   "execution_count": 243,
   "metadata": {},
   "outputs": [
    {
     "name": "stdout",
     "output_type": "stream",
     "text": [
      "RMSE: 0.0168\n"
     ]
    }
   ],
   "source": [
    "# Generate pseudo alignment vectors\n",
    "behav_syncs = 1 + np.arange(100)\n",
    "eeg_syncs = 1 + np.arange(100)\n",
    "\n",
    "# Add some random noise.\n",
    "behav_syncs_ = behav_syncs + np.random.rand(100) - np.random.rand(100)\n",
    "eeg_syncs_ = eeg_syncs + np.random.rand(100) - np.random.rand(100)\n",
    "\n",
    "# Randomly remove and add some indices to eeg_syncs\n",
    "n_remove = 10\n",
    "n_add = 20\n",
    "remove_inds = np.arange(len(eeg_syncs))\n",
    "np.random.shuffle(remove_inds)\n",
    "eeg_syncs_ = np.delete(eeg_syncs_, remove_inds[:n_remove])\n",
    "eeg_syncs_ = np.sort(np.concatenate((eeg_syncs_, np.random.rand(n_add) * 100)))\n",
    "\n",
    "# For each behavioral sync time, find the closest EEG time\n",
    "ttl_pairs = np.array([(behav_syncs_[i], eeg_syncs_[np.abs(eeg_syncs_ - behav_syncs_[i]).argmin()]) \n",
    "                      for i in range(len(behav_syncs_))])\n",
    "\n",
    "# Get a robust linear fit between the sync vectors.\n",
    "X = sm.add_constant(ttl_pairs[:, 0]) # the behavioral times\n",
    "y = ttl_pairs[:, 1] # the EEG channel times\n",
    "rlm_model = sm.RLM(y, X, M=sm.robust.norms.HuberT())\n",
    "rlm_results = rlm_model.fit()\n",
    "intercept, slope = rlm_results.params\n",
    "\n",
    "# Fit behavioral to EEG sync times and calculate the RMSE\n",
    "behav_syncs_aligned = intercept + (slope * behav_syncs)\n",
    "print('RMSE: {:.4f}'.format(rmse(behav_syncs_aligned, eeg_syncs)))"
   ]
  },
  {
   "cell_type": "code",
   "execution_count": 245,
   "metadata": {},
   "outputs": [
    {
     "data": {
      "text/plain": [
       "Text(0,0.5,'EEG sync times')"
      ]
     },
     "execution_count": 245,
     "metadata": {},
     "output_type": "execute_result"
    },
    {
     "data": {
      "image/png": "[encoded data removed]",
      "text/plain": [
       "<Figure size 700x350 with 1 Axes>"
      ]
     },
     "metadata": {},
     "output_type": "display_data"
    }
   ],
   "source": [
    "fig, ax = plt.subplots(1, 1, figsize=(7, 3.5), dpi=100)\n",
    "ax = np.ravel(ax)\n",
    "\n",
    "tickfontsize = 12\n",
    "labelfontsize = 14\n",
    "\n",
    "i = 0\n",
    "xpred = np.linspace(np.min(behav_syncs), np.max(behav_syncs), 100)\n",
    "ypred = intercept + (slope * xpred)\n",
    "ax[i].plot(xpred, ypred, color=colors[5], linewidth=1)\n",
    "# ax[i].scatter(ttl_pairs[:, 0], ttl_pairs[:, 1], alpha=0.5, s=10, color=colors[0])\n",
    "ax[i].scatter(behav_syncs, eeg_syncs, alpha=0.5, s=10, color=colors[2])\n",
    "ax[i].set_xticks(np.arange(121)[::20])\n",
    "ax[i].set_yticks(np.arange(121)[::20])\n",
    "ax[i].set_xticklabels(np.arange(121)[::20], fontsize=tickfontsize)\n",
    "ax[i].set_yticklabels(np.arange(121)[::20], fontsize=tickfontsize)\n",
    "ax[i].set_xlabel('Aligned behavioral sync times', fontsize=labelfontsize, labelpad=5)\n",
    "ax[i].set_ylabel('EEG sync times', fontsize=labelfontsize, labelpad=5)"
   ]
  },
  {
   "cell_type": "code",
   "execution_count": null,
   "metadata": {},
   "outputs": [],
   "source": []
  }
 ],
 "metadata": {
  "kernelspec": {
   "display_name": "Python [conda env:memlab]",
   "language": "python",
   "name": "conda-env-memlab-py"
  },
  "language_info": {
   "codemirror_mode": {
    "name": "ipython",
    "version": 3
   },
   "file_extension": ".py",
   "mimetype": "text/x-python",
   "name": "python",
   "nbconvert_exporter": "python",
   "pygments_lexer": "ipython3",
   "version": "3.6.5"
  }
 },
 "nbformat": 4,
 "nbformat_minor": 2
}
